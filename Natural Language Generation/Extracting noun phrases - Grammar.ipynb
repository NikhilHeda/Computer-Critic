{
 "cells": [
  {
   "cell_type": "code",
   "execution_count": 5,
   "metadata": {
    "collapsed": true
   },
   "outputs": [],
   "source": [
    "import nltk\n",
    "from nltk import CFG\n",
    "from nltk.corpus import stopwords"
   ]
  },
  {
   "cell_type": "code",
   "execution_count": 6,
   "metadata": {
    "collapsed": true
   },
   "outputs": [],
   "source": [
    "# Globals\n",
    "stop_words = stopwords.words('english')"
   ]
  },
  {
   "cell_type": "code",
   "execution_count": 7,
   "metadata": {
    "collapsed": true
   },
   "outputs": [],
   "source": [
    "def leaves(tree):\n",
    "    \"\"\"Finds NP (nounphrase) leaf nodes of a chunk tree.\"\"\"\n",
    "    for subtree in tree.subtrees(filter = lambda t: t.label()=='NP'):\n",
    "        yield subtree.leaves()"
   ]
  },
  {
   "cell_type": "code",
   "execution_count": 8,
   "metadata": {
    "collapsed": true
   },
   "outputs": [],
   "source": [
    "def normalise(word):\n",
    "    \"\"\"Normalises words to lowercase and stems and lemmatizes it.\"\"\"\n",
    "    word = word.lower()\n",
    "    word = stemmer.stem(word)\n",
    "    word = lemmatizer.lemmatize(word)\n",
    "    return word"
   ]
  },
  {
   "cell_type": "code",
   "execution_count": 9,
   "metadata": {
    "collapsed": true
   },
   "outputs": [],
   "source": [
    "def acceptable_word(word):\n",
    "    \"\"\"Checks conditions for acceptable word: length, stopword.\"\"\"\n",
    "    accepted = bool(2 <= len(word) <= 40 and word.lower() not in stop_words)\n",
    "    return accepted"
   ]
  },
  {
   "cell_type": "code",
   "execution_count": 10,
   "metadata": {
    "collapsed": true
   },
   "outputs": [],
   "source": [
    "def get_terms(tree):\n",
    "    for leaf in leaves(tree):\n",
    "        term = [ normalise(w) for w,t in leaf if acceptable_word(w) ]\n",
    "        yield term"
   ]
  },
  {
   "cell_type": "code",
   "execution_count": 11,
   "metadata": {
    "collapsed": true
   },
   "outputs": [],
   "source": [
    "text = \"\"\"The Buddha, the Godhead, resides quite as comfortably in the circuits of a digital\n",
    "computer or the gears of a cycle transmission as he does at the top of a mountain\n",
    "or in the petals of a flower. To think otherwise is to demean the Buddha...which is\n",
    "to demean oneself.\"\"\"\n",
    "\n",
    "text = \"\"\"Spiritually and mentally inspiring! A book that allows you to question your morals and will help you discover who you really are!\"\"\"\n",
    "\n",
    "#text = \"\"\"The little yellow dog barked at the cat\"\"\""
   ]
  },
  {
   "cell_type": "code",
   "execution_count": 12,
   "metadata": {
    "collapsed": true
   },
   "outputs": [],
   "source": [
    "# Used when tokenizing words\n",
    "sentence_re = r'''(?x)      # set flag to allow verbose regexps\n",
    "      ([A-Z])(\\.[A-Z])+\\.?  # abbreviations, e.g. U.S.A.\n",
    "    | \\w+(-\\w+)*            # words with optional internal hyphens\n",
    "    | \\$?\\d+(\\.\\d+)?%?      # currency and percentages, e.g. $12.40, 82%\n",
    "    | \\.\\.\\.                # ellipsis\n",
    "    | [][.,;\"'?():-_`]      # these are separate tokens\n",
    "'''"
   ]
  },
  {
   "cell_type": "code",
   "execution_count": 13,
   "metadata": {},
   "outputs": [
    {
     "data": {
      "text/plain": [
       "'\\ngrammar = r\"\"\"\\n    NP:\\n        {<DT>?<JJ>*<NN>}\\n\"\"\"\\n\\ngrammar = r\"\"\"\\n    NP:\\n        {<DT|PP\\\\$>?<JJ>*<NN>}   # chunk determiner/possessive, adjectives and noun\\n        {<NNP>+}                # chunk sequences of proper nouns\\n\"\"\"\\n\\ngrammar = r\"\"\"\\n  NP: {<DT|JJ|NN.*>+}          # Chunk sequences of DT, JJ, NN\\n  PP: {<IN><NP>}               # Chunk prepositions followed by NP\\n  VP: {<VB.*><NP|PP|CLAUSE>+$} # Chunk verbs and their arguments\\n  CLAUSE: {<NP><VP>}           # Chunk NP, VP\\n\"\"\"\\n\\ngrammar = r\"\"\"\\n    NP:\\n        {<NN.?><VB.?>?<JJ.?>}\\n\"\"\"\\n\\ngrammar = r\"\"\"\\n    NP: {<DT>? <JJ>* <NN>*} # NP\\n    P: {<IN>}           # Preposition\\n    V: {<V.*>}          # Verb\\n    PP: {<P> <NP>}      # PP -> P NP\\n    VP: {<V> <NP|PP>*}  # VP -> V (NP|PP)*\\n\"\"\"\\n\\ngrammar = \"\"\"\\n    NP:   {<PRP>?<JJ.*>*<NN.*>+}\\n    CP:   {<JJR|JJS>}\\n    VERB: {<VB.*>}\\n    THAN: {<IN>}\\n    COMP: {<DT>?<NP><RB>?<VERB><DT>?<CP><THAN><DT>?<NP>}\\n\"\"\"\\n\\ngrammar = r\"\"\"\\n    NP: \\n        {<NN><VBD><JJ>(<CC><JJ>)?}\\n\"\"\"\\n'"
      ]
     },
     "execution_count": 13,
     "metadata": {},
     "output_type": "execute_result"
    }
   ],
   "source": [
    "#Taken from Su Nam Kim Paper...\n",
    "grammar = r\"\"\"\n",
    "    NBAR:\n",
    "        {<NN.*|JJ>*<NN.*>}  # Nouns and Adjectives, terminated with Nouns\n",
    "        \n",
    "    NP:\n",
    "        {<NBAR>}\n",
    "        {<NBAR><IN><NBAR>}  # Above, connected with in/of/etc...\n",
    "\"\"\"\n",
    "'''\n",
    "grammar = r\"\"\"\n",
    "    NP:\n",
    "        {<DT>?<JJ>*<NN>}\n",
    "\"\"\"\n",
    "\n",
    "grammar = r\"\"\"\n",
    "    NP:\n",
    "        {<DT|PP\\$>?<JJ>*<NN>}   # chunk determiner/possessive, adjectives and noun\n",
    "        {<NNP>+}                # chunk sequences of proper nouns\n",
    "\"\"\"\n",
    "\n",
    "grammar = r\"\"\"\n",
    "  NP: {<DT|JJ|NN.*>+}          # Chunk sequences of DT, JJ, NN\n",
    "  PP: {<IN><NP>}               # Chunk prepositions followed by NP\n",
    "  VP: {<VB.*><NP|PP|CLAUSE>+$} # Chunk verbs and their arguments\n",
    "  CLAUSE: {<NP><VP>}           # Chunk NP, VP\n",
    "\"\"\"\n",
    "\n",
    "grammar = r\"\"\"\n",
    "    NP:\n",
    "        {<NN.?><VB.?>?<JJ.?>}\n",
    "\"\"\"\n",
    "\n",
    "grammar = r\"\"\"\n",
    "    NP: {<DT>? <JJ>* <NN>*} # NP\n",
    "    P: {<IN>}           # Preposition\n",
    "    V: {<V.*>}          # Verb\n",
    "    PP: {<P> <NP>}      # PP -> P NP\n",
    "    VP: {<V> <NP|PP>*}  # VP -> V (NP|PP)*\n",
    "\"\"\"\n",
    "\n",
    "grammar = \"\"\"\n",
    "    NP:   {<PRP>?<JJ.*>*<NN.*>+}\n",
    "    CP:   {<JJR|JJS>}\n",
    "    VERB: {<VB.*>}\n",
    "    THAN: {<IN>}\n",
    "    COMP: {<DT>?<NP><RB>?<VERB><DT>?<CP><THAN><DT>?<NP>}\n",
    "\"\"\"\n",
    "\n",
    "grammar = r\"\"\"\n",
    "    NP: \n",
    "        {<NN><VBD><JJ>(<CC><JJ>)?}\n",
    "\"\"\"\n",
    "'''"
   ]
  },
  {
   "cell_type": "code",
   "execution_count": 14,
   "metadata": {},
   "outputs": [],
   "source": [
    "tokenizer = nltk.tokenize.RegexpTokenizer(sentence_re)\n",
    "chunker = nltk.RegexpParser(grammar)\n",
    "lemmatizer = nltk.WordNetLemmatizer()\n",
    "stemmer = nltk.stem.porter.PorterStemmer()"
   ]
  },
  {
   "cell_type": "code",
   "execution_count": 15,
   "metadata": {},
   "outputs": [],
   "source": [
    "tokens = nltk.word_tokenize(text)\n",
    "pos_tokens = nltk.tag.pos_tag(tokens)\n",
    "#pos_tokens"
   ]
  },
  {
   "cell_type": "code",
   "execution_count": 16,
   "metadata": {
    "collapsed": true
   },
   "outputs": [],
   "source": [
    "tree = chunker.parse(pos_tokens)\n",
    "tree.draw()"
   ]
  },
  {
   "cell_type": "code",
   "execution_count": 121,
   "metadata": {},
   "outputs": [],
   "source": [
    "terms = get_terms(tree)\n",
    "for term in terms:\n",
    "    for word in term:\n",
    "        print(word)\n",
    "    print()"
   ]
  }
 ],
 "metadata": {
  "kernelspec": {
   "display_name": "Python 3",
   "language": "python",
   "name": "python3"
  }
 },
 "nbformat": 4,
 "nbformat_minor": 2
}
