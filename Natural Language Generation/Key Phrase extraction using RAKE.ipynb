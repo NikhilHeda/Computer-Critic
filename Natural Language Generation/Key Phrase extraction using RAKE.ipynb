{
 "cells": [
  {
   "cell_type": "code",
   "execution_count": 1,
   "metadata": {
    "collapsed": true
   },
   "outputs": [],
   "source": [
    "import json\n",
    "from rake_nltk import Rake"
   ]
  },
  {
   "cell_type": "code",
   "execution_count": 6,
   "metadata": {
    "collapsed": true
   },
   "outputs": [],
   "source": [
    "rake_object = Rake()\n",
    "\n",
    "text = \"\"\"\n",
    "    The Buddha, the Godhead, resides quite as comfortably in the circuits of a digital \n",
    "    computer or the gears of a cycle transmission as he does at the top of a mountain \n",
    "    or in the petals of a flower. To think otherwise is to demean the Buddha...which is \n",
    "    to demean oneself.\n",
    "\"\"\"\n",
    "\n",
    "\n",
    "text = \"\"\"\n",
    "    Spiritually and mentally inspiring!\n",
    "    A book that allows you to question your morals and will help you discover who you really are!\n",
    "\"\"\"\n",
    "\n",
    "json_text = '''\n",
    "{\n",
    "    \"reviewerID\": \"AMO214LNFCEI4\", \n",
    "    \"asin\": \"0528881469\", \n",
    "    \"reviewerName\": \"Amazon Customer\", \n",
    "    \"helpful\": [12, 15], \n",
    "    \"reviewText\": \"I'm a professional OTR truck driver, and I bought a TND 700 at a truck stop hoping to make my life easier.  Rand McNally, are you listening?First thing I did after charging it was connect it to my laptop and install the software and then attempt to update it.  The software detected a problem with my update and wanted my home address so I could be sent a patch on an SD card.  Hello?  I don't think I'm all that unusual; my home address is a PO box that a friend checks weekly and that I might get to check every six months or so.  I live in my truck and at truck stops.  If you need to make a patch available on an SD card then you should send the SD cards to the truck stops where the devices are sold.  I ran the update program multiple times until the program said that the TND 700 was completely updated.I programmed in the height (13'6\\\"), the length (53') and the weight (80,000#) of my rig and told it that I preferred highways.  I was parked at a truck stop in the Cincinnati OH area.  My next pickup was about 15 miles down the same freeway but on the other side of it a couple of blocks.  My cell phone GPS (Sprint) said to get on the freeway to get to my pickup.  The TND 700 routed me thru 23 miles of residential streets before finally getting me to my pickup.  Very exciting, especially since every time I refused to turn down a street posted \\\"No Trucks\\\" the TND 700 took almost 5 minutes to figure a re-route, and it happened multiple times on that short trip.I decided to give it another chance.  After my pickup on the north side of Cincinnati just off of I-75 I needed to head to Phoenix AZ via I-71.  Easy route is to just hop on I-75 and drive west and south to the intersection of I-71.  Indeed, that is what my cell phone advised.  The TND 700, however, wanted to route me over surface streets across the city and pick up I-75 on the other side of the city.  I turned it off and the next time I passed a truck stop of the same chain I purchased it at I returned it and got my money back.I then spent $30 on a cheap printer.  Now I take a minute to set up my route on Google and print it out.  Hasn't gotten me lost yet over several cross country trips.\", \n",
    "    \"overall\": 1.0,\n",
    "    \"summary\": \"Very Disappointed\", \n",
    "    \"unixReviewTime\": 1290643200, \n",
    "    \"reviewTime\": \"11 25, 2010\"\n",
    "}\n",
    "\n",
    "'''\n",
    "\n",
    "text = \"I'm a professional OTR truck driver, and I bought a TND 700 at a truck stop hoping to make my life easier.  Rand McNally, are you listening?First thing I did after charging it was connect it to my laptop and install the software and then attempt to update it.  The software detected a problem with my update and wanted my home address so I could be sent a patch on an SD card.  Hello?  I don't think I'm all that unusual; my home address is a PO box that a friend checks weekly and that I might get to check every six months or so.  I live in my truck and at truck stops.  If you need to make a patch available on an SD card then you should send the SD cards to the truck stops where the devices are sold.  I ran the update program multiple times until the program said that the TND 700 was completely updated.I programmed in the height (13'6\\\"), the length (53') and the weight (80,000#) of my rig and told it that I preferred highways.  I was parked at a truck stop in the Cincinnati OH area.  My next pickup was about 15 miles down the same freeway but on the other side of it a couple of blocks.  My cell phone GPS (Sprint) said to get on the freeway to get to my pickup.  The TND 700 routed me thru 23 miles of residential streets before finally getting me to my pickup.  Very exciting, especially since every time I refused to turn down a street posted \\\"No Trucks\\\" the TND 700 took almost 5 minutes to figure a re-route, and it happened multiple times on that short trip.I decided to give it another chance.  After my pickup on the north side of Cincinnati just off of I-75 I needed to head to Phoenix AZ via I-71.  Easy route is to just hop on I-75 and drive west and south to the intersection of I-71.  Indeed, that is what my cell phone advised.  The TND 700, however, wanted to route me over surface streets across the city and pick up I-75 on the other side of the city.  I turned it off and the next time I passed a truck stop of the same chain I purchased it at I returned it and got my money back.I then spent $30 on a cheap printer.  Now I take a minute to set up my route on Google and print it out.  Hasn't gotten me lost yet over several cross country trips.\" + \"Very Disappointed\"\n",
    "\n"
   ]
  },
  {
   "cell_type": "code",
   "execution_count": 7,
   "metadata": {
    "collapsed": true
   },
   "outputs": [],
   "source": [
    "def get_summary(text):\n",
    "    rake_object.extract_keywords_from_text(text)\n",
    "    return rake_object.get_ranked_phrases_with_scores()"
   ]
  },
  {
   "cell_type": "code",
   "execution_count": 8,
   "metadata": {
    "collapsed": true
   },
   "outputs": [],
   "source": [
    "def main():\n",
    "    a = list()\n",
    "    with open(\"../Dataset/reviews_small.json\", \"r\") as f:\n",
    "        for line in f:\n",
    "            data = json.loads(line)\n",
    "            a.append(data[\"reviewText\"])\n",
    "\n",
    "    for i in range(len(a)):\n",
    "        summary = get_summary(a[i])[0]\n",
    "        print(summary)\n",
    "        print()"
   ]
  },
  {
   "cell_type": "code",
   "execution_count": 9,
   "metadata": {},
   "outputs": [
    {
     "data": {
      "text/plain": [
       "[(31.333333333333332, 'tnd 700 took almost 5 minutes'),\n",
       " (16.0, 'several cross country trips'),\n",
       " (16.0, 'check every six months'),\n",
       " (15.0, 'especially since every time'),\n",
       " (14.4, 'professional otr truck driver'),\n",
       " (12.5, 'update program multiple times'),\n",
       " (10.333333333333332, 'tnd 700 routed'),\n",
       " (10.0, 'happened multiple times'),\n",
       " (9.0, 'phoenix az via'),\n",
       " (9.0, 'friend checks weekly'),\n",
       " (9.0, 'cell phone gps'),\n",
       " (9.0, 'cell phone advised'),\n",
       " (8.5, 'thru 23 miles'),\n",
       " (8.5, 'surface streets across'),\n",
       " (8.0, 'cincinnati oh area'),\n",
       " (7.9, 'truck stop hoping'),\n",
       " (7.333333333333333, 'tnd 700'),\n",
       " (5.0, 'next time'),\n",
       " (4.9, 'truck stop'),\n",
       " (4.5, 'residential streets'),\n",
       " (4.5, 'program said'),\n",
       " (4.5, '15 miles'),\n",
       " (4.4, 'truck stops'),\n",
       " (4.0, 'street posted'),\n",
       " (4.0, 'short trip'),\n",
       " (4.0, 'sd cards'),\n",
       " (4.0, 'sd card'),\n",
       " (4.0, 'rand mcnally'),\n",
       " (4.0, 'preferred highways'),\n",
       " (4.0, 'po box'),\n",
       " (4.0, 'money back'),\n",
       " (4.0, 'lost yet'),\n",
       " (4.0, 'life easier'),\n",
       " (4.0, 'home address'),\n",
       " (4.0, 'first thing'),\n",
       " (4.0, 'finally getting'),\n",
       " (4.0, 'drive west'),\n",
       " (4.0, 'completely updated'),\n",
       " (4.0, 'cheap printer'),\n",
       " (4.0, 'another chance'),\n",
       " (4.0, '6 \"),'),\n",
       " (4.0, \"53 ')\"),\n",
       " (4.0, '000 #)'),\n",
       " (3.5, 'software detected'),\n",
       " (3.5, 'patch available'),\n",
       " (3.5, 'north side'),\n",
       " (3.5, 'next pickup'),\n",
       " (3.5, 'might get'),\n",
       " (3.5, 'easy route'),\n",
       " (2.5, 'update'),\n",
       " (2.4, 'truck'),\n",
       " (2.0, 'cincinnati'),\n",
       " (1.5, 'software'),\n",
       " (1.5, 'side'),\n",
       " (1.5, 'said'),\n",
       " (1.5, 'route'),\n",
       " (1.5, 'pickup'),\n",
       " (1.5, 'patch'),\n",
       " (1.5, 'get'),\n",
       " (1.0, 'weight'),\n",
       " (1.0, 'wanted'),\n",
       " (1.0, 'unusual'),\n",
       " (1.0, 'turned'),\n",
       " (1.0, 'turn'),\n",
       " (1.0, 'trucks'),\n",
       " (1.0, 'told'),\n",
       " (1.0, 'think'),\n",
       " (1.0, 'take'),\n",
       " (1.0, 'sprint'),\n",
       " (1.0, 'spent'),\n",
       " (1.0, 'south'),\n",
       " (1.0, 'sold'),\n",
       " (1.0, 'set'),\n",
       " (1.0, 'sent'),\n",
       " (1.0, 'send'),\n",
       " (1.0, 'rig'),\n",
       " (1.0, 'returned'),\n",
       " (1.0, 'refused'),\n",
       " (1.0, 'ran'),\n",
       " (1.0, 'purchased'),\n",
       " (1.0, 'programmed'),\n",
       " (1.0, 'problem'),\n",
       " (1.0, 'print'),\n",
       " (1.0, 'pick'),\n",
       " (1.0, 'passed'),\n",
       " (1.0, 'parked'),\n",
       " (1.0, 'needed'),\n",
       " (1.0, 'need'),\n",
       " (1.0, 'minute'),\n",
       " (1.0, 'make'),\n",
       " (1.0, 'live'),\n",
       " (1.0, 'listening'),\n",
       " (1.0, 'length'),\n",
       " (1.0, 'laptop'),\n",
       " (1.0, 'intersection'),\n",
       " (1.0, 'install'),\n",
       " (1.0, 'indeed'),\n",
       " (1.0, 'however'),\n",
       " (1.0, 'hop'),\n",
       " (1.0, 'hello'),\n",
       " (1.0, 'height'),\n",
       " (1.0, 'head'),\n",
       " (1.0, 'gotten'),\n",
       " (1.0, 'got'),\n",
       " (1.0, 'google'),\n",
       " (1.0, 'give'),\n",
       " (1.0, 'freeway'),\n",
       " (1.0, 'figure'),\n",
       " (1.0, 'exciting'),\n",
       " (1.0, 'disappointed'),\n",
       " (1.0, 'devices'),\n",
       " (1.0, 'decided'),\n",
       " (1.0, 'couple'),\n",
       " (1.0, 'could'),\n",
       " (1.0, 'connect'),\n",
       " (1.0, 'city'),\n",
       " (1.0, 'charging'),\n",
       " (1.0, 'chain'),\n",
       " (1.0, 'bought'),\n",
       " (1.0, 'blocks'),\n",
       " (1.0, 'attempt'),\n",
       " (1.0, '80'),\n",
       " (1.0, '75'),\n",
       " (1.0, '71'),\n",
       " (1.0, '30'),\n",
       " (1.0, '13')]"
      ]
     },
     "execution_count": 9,
     "metadata": {},
     "output_type": "execute_result"
    }
   ],
   "source": [
    "#main()\n",
    "get_summary(text)"
   ]
  },
  {
   "cell_type": "code",
   "execution_count": null,
   "metadata": {
    "collapsed": true
   },
   "outputs": [],
   "source": []
  }
 ],
 "metadata": {
  "kernelspec": {
   "display_name": "Python 3",
   "language": "python",
   "name": "python3"
  },
  "language_info": {
   "codemirror_mode": {
    "name": "ipython",
    "version": 3
   },
   "file_extension": ".py",
   "mimetype": "text/x-python",
   "name": "python",
   "nbconvert_exporter": "python",
   "pygments_lexer": "ipython3",
   "version": "3.6.1"
  }
 },
 "nbformat": 4,
 "nbformat_minor": 2
}
