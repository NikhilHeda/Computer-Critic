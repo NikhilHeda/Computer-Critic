{
 "cells": [
  {
   "cell_type": "code",
   "execution_count": 1,
   "metadata": {
    "collapsed": true
   },
   "outputs": [],
   "source": [
    "import json\n",
    "from rake_nltk import Rake"
   ]
  },
  {
   "cell_type": "code",
   "execution_count": 2,
   "metadata": {
    "collapsed": true
   },
   "outputs": [],
   "source": [
    "rake_object = Rake()\n",
    "\n",
    "text = \"\"\"\n",
    "    The Buddha, the Godhead, resides quite as comfortably in the circuits of a digital \n",
    "    computer or the gears of a cycle transmission as he does at the top of a mountain \n",
    "    or in the petals of a flower. To think otherwise is to demean the Buddha...which is \n",
    "    to demean oneself.\n",
    "\"\"\"\n",
    "\n",
    "\n",
    "text = \"\"\"\n",
    "    Spiritually and mentally inspiring!\n",
    "    A book that allows you to question your morals and will help you discover who you really are!\n",
    "\"\"\"\n",
    "\n",
    "json_text = '''\n",
    "{\n",
    "    \"reviewerID\": \"AMO214LNFCEI4\", \n",
    "    \"asin\": \"0528881469\", \n",
    "    \"reviewerName\": \"Amazon Customer\", \n",
    "    \"helpful\": [12, 15], \n",
    "    \"reviewText\": \"I'm a professional OTR truck driver, and I bought a TND 700 at a truck stop hoping to make my life easier.  Rand McNally, are you listening?First thing I did after charging it was connect it to my laptop and install the software and then attempt to update it.  The software detected a problem with my update and wanted my home address so I could be sent a patch on an SD card.  Hello?  I don't think I'm all that unusual; my home address is a PO box that a friend checks weekly and that I might get to check every six months or so.  I live in my truck and at truck stops.  If you need to make a patch available on an SD card then you should send the SD cards to the truck stops where the devices are sold.  I ran the update program multiple times until the program said that the TND 700 was completely updated.I programmed in the height (13'6\\\"), the length (53') and the weight (80,000#) of my rig and told it that I preferred highways.  I was parked at a truck stop in the Cincinnati OH area.  My next pickup was about 15 miles down the same freeway but on the other side of it a couple of blocks.  My cell phone GPS (Sprint) said to get on the freeway to get to my pickup.  The TND 700 routed me thru 23 miles of residential streets before finally getting me to my pickup.  Very exciting, especially since every time I refused to turn down a street posted \\\"No Trucks\\\" the TND 700 took almost 5 minutes to figure a re-route, and it happened multiple times on that short trip.I decided to give it another chance.  After my pickup on the north side of Cincinnati just off of I-75 I needed to head to Phoenix AZ via I-71.  Easy route is to just hop on I-75 and drive west and south to the intersection of I-71.  Indeed, that is what my cell phone advised.  The TND 700, however, wanted to route me over surface streets across the city and pick up I-75 on the other side of the city.  I turned it off and the next time I passed a truck stop of the same chain I purchased it at I returned it and got my money back.I then spent $30 on a cheap printer.  Now I take a minute to set up my route on Google and print it out.  Hasn't gotten me lost yet over several cross country trips.\", \n",
    "    \"overall\": 1.0,\n",
    "    \"summary\": \"Very Disappointed\", \n",
    "    \"unixReviewTime\": 1290643200, \n",
    "    \"reviewTime\": \"11 25, 2010\"\n",
    "}\n",
    "\n",
    "'''\n",
    "\n",
    "text = \"I'm a professional OTR truck driver, and I bought a TND 700 at a truck stop hoping to make my life easier.  Rand McNally, are you listening?First thing I did after charging it was connect it to my laptop and install the software and then attempt to update it.  The software detected a problem with my update and wanted my home address so I could be sent a patch on an SD card.  Hello?  I don't think I'm all that unusual; my home address is a PO box that a friend checks weekly and that I might get to check every six months or so.  I live in my truck and at truck stops.  If you need to make a patch available on an SD card then you should send the SD cards to the truck stops where the devices are sold.  I ran the update program multiple times until the program said that the TND 700 was completely updated.I programmed in the height (13'6\\\"), the length (53') and the weight (80,000#) of my rig and told it that I preferred highways.  I was parked at a truck stop in the Cincinnati OH area.  My next pickup was about 15 miles down the same freeway but on the other side of it a couple of blocks.  My cell phone GPS (Sprint) said to get on the freeway to get to my pickup.  The TND 700 routed me thru 23 miles of residential streets before finally getting me to my pickup.  Very exciting, especially since every time I refused to turn down a street posted \\\"No Trucks\\\" the TND 700 took almost 5 minutes to figure a re-route, and it happened multiple times on that short trip.I decided to give it another chance.  After my pickup on the north side of Cincinnati just off of I-75 I needed to head to Phoenix AZ via I-71.  Easy route is to just hop on I-75 and drive west and south to the intersection of I-71.  Indeed, that is what my cell phone advised.  The TND 700, however, wanted to route me over surface streets across the city and pick up I-75 on the other side of the city.  I turned it off and the next time I passed a truck stop of the same chain I purchased it at I returned it and got my money back.I then spent $30 on a cheap printer.  Now I take a minute to set up my route on Google and print it out.  Hasn't gotten me lost yet over several cross country trips.\" + \"Very Disappointed\"\n",
    "\n"
   ]
  },
  {
   "cell_type": "code",
   "execution_count": 3,
   "metadata": {
    "collapsed": true
   },
   "outputs": [],
   "source": [
    "def get_summary(text):\n",
    "    rake_object.extract_keywords_from_text(text)\n",
    "    return rake_object.get_ranked_phrases_with_scores()"
   ]
  },
  {
   "cell_type": "code",
   "execution_count": 4,
   "metadata": {
    "collapsed": true
   },
   "outputs": [],
   "source": [
    "def main():\n",
    "    a = list()\n",
    "    with open(\"../Dataset/reviews_small.json\", \"r\") as f:\n",
    "        for line in f:\n",
    "            data = json.loads(line)\n",
    "            a.append(data[\"reviewText\"])\n",
    "\n",
    "    for i in range(len(a)):\n",
    "        summary = get_summary(a[i])[0]\n",
    "        print(summary)\n",
    "        print()"
   ]
  },
  {
   "cell_type": "code",
   "execution_count": 5,
   "metadata": {},
   "outputs": [
    {
     "data": {
      "text/plain": [
       "[(9.0, 'nothing really bad'),\n",
       " (9.0, 'ect ...) love'),\n",
       " (9.0, 'big truck routes'),\n",
       " (8.0, 'expected ... within'),\n",
       " (4.5, 'within minutes'),\n",
       " (4.5, '... could'),\n",
       " (4.0, 'work great'),\n",
       " (4.0, 'way around'),\n",
       " (4.0, 'shipping time'),\n",
       " (4.0, 'putting addresses'),\n",
       " (4.0, 'probably one'),\n",
       " (4.0, 'normal person'),\n",
       " (4.0, 'days earlier'),\n",
       " (4.0, 'bigger screen'),\n",
       " (3.5, 'worked great'),\n",
       " (3.5, 'use however'),\n",
       " (3.5, 'started freezing'),\n",
       " (3.5, 'road trucker'),\n",
       " (3.5, 'email back'),\n",
       " (1.5, 'worked'),\n",
       " (1.5, 'use'),\n",
       " (1.5, 'trucker'),\n",
       " (1.5, 'freezing'),\n",
       " (1.5, 'email'),\n",
       " (1.0, 'well'),\n",
       " (1.0, 'week'),\n",
       " (1.0, 'unit'),\n",
       " (1.0, 'tells'),\n",
       " (1.0, 'seller'),\n",
       " (1.0, 'scale'),\n",
       " (1.0, 'say'),\n",
       " (1.0, 'received'),\n",
       " (1.0, 'otr'),\n",
       " (1.0, 'option'),\n",
       " (1.0, 'million'),\n",
       " (1.0, 'memory'),\n",
       " (1.0, 'luck'),\n",
       " (1.0, 'instructions'),\n",
       " (1.0, 'impressed'),\n",
       " (1.0, 'husband'),\n",
       " (1.0, 'gps'),\n",
       " (1.0, 'gotta'),\n",
       " (1.0, 'got'),\n",
       " (1.0, 'glitch'),\n",
       " (1.0, 'exchange'),\n",
       " (1.0, 'exception'),\n",
       " (1.0, 'ease'),\n",
       " (1.0, 'contacted'),\n",
       " (1.0, 'coming'),\n",
       " (1.0, 'arrived')]"
      ]
     },
     "execution_count": 5,
     "metadata": {},
     "output_type": "execute_result"
    }
   ],
   "source": [
    "#main()\n",
    "get_summary(text)"
   ]
  },
  {
   "cell_type": "code",
   "execution_count": null,
   "metadata": {
    "collapsed": true
   },
   "outputs": [],
   "source": []
  }
 ],
 "metadata": {
  "kernelspec": {
   "display_name": "Python 3",
   "language": "python",
   "name": "python3"
  },
  "language_info": {
   "codemirror_mode": {
    "name": "ipython",
    "version": 3
   },
   "file_extension": ".py",
   "mimetype": "text/x-python",
   "name": "python",
   "nbconvert_exporter": "python",
   "pygments_lexer": "ipython3",
   "version": "3.6.1"
  }
 },
 "nbformat": 4,
 "nbformat_minor": 2
}
