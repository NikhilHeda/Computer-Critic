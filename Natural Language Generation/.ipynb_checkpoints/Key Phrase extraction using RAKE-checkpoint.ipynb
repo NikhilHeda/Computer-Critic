{
 "cells": [
  {
   "cell_type": "code",
   "execution_count": 2,
   "metadata": {},
   "outputs": [],
   "source": [
    "from rake_nltk import Rake"
   ]
  },
  {
   "cell_type": "code",
   "execution_count": 8,
   "metadata": {
    "collapsed": true
   },
   "outputs": [],
   "source": [
    "rake_object = Rake()\n",
    "\n",
    "text = \"\"\"\n",
    "    The Buddha, the Godhead, resides quite as comfortably in the circuits of a digital \n",
    "    computer or the gears of a cycle transmission as he does at the top of a mountain \n",
    "    or in the petals of a flower. To think otherwise is to demean the Buddha...which is \n",
    "    to demean oneself.\n",
    "\"\"\"\n",
    "\n",
    "\n",
    "text = \"\"\"\n",
    "    Spiritually and mentally inspiring!\n",
    "    A book that allows you to question your morals and will help you discover who you really are!\n",
    "\"\"\""
   ]
  },
  {
   "cell_type": "code",
   "execution_count": 9,
   "metadata": {},
   "outputs": [
    {
     "data": {
      "text/plain": [
       "[(4.0, 'think otherwise'),\n",
       " (4.0, 'resides quite'),\n",
       " (4.0, 'digital computer'),\n",
       " (4.0, 'cycle transmission'),\n",
       " (3.5, 'demean oneself'),\n",
       " (3.5, 'buddha ...'),\n",
       " (1.5, 'demean'),\n",
       " (1.5, 'buddha'),\n",
       " (1.0, 'top'),\n",
       " (1.0, 'petals'),\n",
       " (1.0, 'mountain'),\n",
       " (1.0, 'godhead'),\n",
       " (1.0, 'gears'),\n",
       " (1.0, 'flower'),\n",
       " (1.0, 'comfortably'),\n",
       " (1.0, 'circuits')]"
      ]
     },
     "execution_count": 9,
     "metadata": {},
     "output_type": "execute_result"
    }
   ],
   "source": [
    "rake_object.extract_keywords_from_text(text)\n",
    "rake_object.get_ranked_phrases_with_scores()"
   ]
  },
  {
   "cell_type": "code",
   "execution_count": null,
   "metadata": {
    "collapsed": true
   },
   "outputs": [],
   "source": [
    "def main():\n",
    "    a = list()\n",
    "    with open(\"../Dataset/reviews_small.json\", \"r\") as f:\n",
    "        for line in f:\n",
    "            data = json.loads(line)\n",
    "            a.append(data[\"reviewText\"])\n",
    "\n",
    "    for i in range(len(a)):\n",
    "        summary = textrank(a[i])[0:2]\n",
    "        print(summary)\n",
    "        print()"
   ]
  }
 ],
 "metadata": {
  "kernelspec": {
   "display_name": "Python 3",
   "language": "python",
   "name": "python3"
  },
  "language_info": {
   "codemirror_mode": {
    "name": "ipython",
    "version": 3
   },
   "file_extension": ".py",
   "mimetype": "text/x-python",
   "name": "python",
   "nbconvert_exporter": "python",
   "pygments_lexer": "ipython3",
   "version": "3.6.1"
  }
 },
 "nbformat": 4,
 "nbformat_minor": 2
}
